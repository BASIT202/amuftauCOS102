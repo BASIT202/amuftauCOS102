{
 "cells": [
  {
   "cell_type": "code",
   "execution_count": 2,
   "id": "450603c5-a7d3-4f74-a1ea-508b64cb78bd",
   "metadata": {},
   "outputs": [
    {
     "name": "stdout",
     "output_type": "stream",
     "text": [
      "Welcome to Store Checkout\n"
     ]
    },
    {
     "name": "stdin",
     "output_type": "stream",
     "text": [
      "Enter total amount:  15000\n",
      "Enter amount payed:  17000\n"
     ]
    },
    {
     "name": "stdout",
     "output_type": "stream",
     "text": [
      "Change:  2000.0\n",
      "Receipt printed\n",
      "Have a good day\n"
     ]
    }
   ],
   "source": [
    "# Store checkout after purchase\n",
    "\n",
    "# Display welcome message\n",
    "print(\"Welcome to Store Checkout\")\n",
    "\n",
    "# Input total amount\n",
    "total_amount = float(input(\"Enter total amount: \"))\n",
    "\n",
    "# Input amount payed \n",
    "amount_payed = float(input(\"Enter amount payed: \"))\n",
    "\n",
    "# Calculate change\n",
    "change = amount_payed - total_amount\n",
    "\n",
    "# Display change\n",
    "print(\"Change: \", change)\n",
    "\n",
    "# Display receipt \n",
    "print(\"Receipt printed\")\n",
    "\n",
    "# Display checkout message \n",
    "print(\"Have a good day\")\n"
   ]
  },
  {
   "cell_type": "code",
   "execution_count": 3,
   "id": "14b2c53c-c826-4f10-95d8-bac364b82ebf",
   "metadata": {},
   "outputs": [
    {
     "name": "stdin",
     "output_type": "stream",
     "text": [
      "Enter first name:  han\n",
      "Enter age for han:  28\n",
      "Enter second name:  dom\n",
      "Enter age for dom:  30\n"
     ]
    },
    {
     "name": "stdout",
     "output_type": "stream",
     "text": [
      "Original Ages: 28 30\n",
      "Swapped Ages: 30 28\n"
     ]
    }
   ],
   "source": [
    "# Input names and ages\n",
    "name_1 = input(\"Enter first name: \")\n",
    "age_1 = int(input(\"Enter age for \" + name_1 + \": \"))\n",
    "name_2 = input(\"Enter second name: \")\n",
    "age_2 = int(input(\"Enter age for \" + name_2 + \": \"))\n",
    "\n",
    "# Display original ages\n",
    "print(\"Original Ages:\", age_1, age_2)\n",
    "\n",
    "# Swap ages\n",
    "temp = age_1\n",
    "age_1 = age_2\n",
    "age_2 = temp\n",
    "\n",
    "# Display swapped ages\n",
    "print(\"Swapped Ages:\", age_1, age_2)\n"
   ]
  },
  {
   "cell_type": "code",
   "execution_count": null,
   "id": "3d4ee86e-0915-4f25-b4c7-58aa94c674bd",
   "metadata": {},
   "outputs": [],
   "source": []
  }
 ],
 "metadata": {
  "kernelspec": {
   "display_name": "Python 3 (ipykernel)",
   "language": "python",
   "name": "python3"
  },
  "language_info": {
   "codemirror_mode": {
    "name": "ipython",
    "version": 3
   },
   "file_extension": ".py",
   "mimetype": "text/x-python",
   "name": "python",
   "nbconvert_exporter": "python",
   "pygments_lexer": "ipython3",
   "version": "3.11.7"
  }
 },
 "nbformat": 4,
 "nbformat_minor": 5
}
