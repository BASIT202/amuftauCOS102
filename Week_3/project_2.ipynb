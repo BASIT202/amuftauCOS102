{
 "cells": [
  {
   "cell_type": "code",
   "execution_count": 1,
   "id": "1a3a5e33-d648-4b9a-a28d-f575da03e46c",
   "metadata": {},
   "outputs": [
    {
     "name": "stdout",
     "output_type": "stream",
     "text": [
      "Choose an operation:\n",
      "1. Solve cubic equation\n",
      "2. Solve quadratic equation\n",
      "3. Exit\n"
     ]
    },
    {
     "name": "stdin",
     "output_type": "stream",
     "text": [
      "Enter your choice (1/2/3):  1\n",
      "Enter coefficient A for cubic equation:  2\n",
      "Enter coefficient B for cubic equation:  3\n",
      "Enter coefficient C for cubic equation:  4\n",
      "Enter coefficient D for cubic equation:  5\n"
     ]
    },
    {
     "ename": "NameError",
     "evalue": "name 'math' is not defined",
     "output_type": "error",
     "traceback": [
      "\u001b[1;31m---------------------------------------------------------------------------\u001b[0m",
      "\u001b[1;31mNameError\u001b[0m                                 Traceback (most recent call last)",
      "Cell \u001b[1;32mIn[1], line 55\u001b[0m\n\u001b[0;32m     53\u001b[0m     C \u001b[38;5;241m=\u001b[39m \u001b[38;5;28mfloat\u001b[39m(\u001b[38;5;28minput\u001b[39m(\u001b[38;5;124m\"\u001b[39m\u001b[38;5;124mEnter coefficient C for cubic equation: \u001b[39m\u001b[38;5;124m\"\u001b[39m))\n\u001b[0;32m     54\u001b[0m     D \u001b[38;5;241m=\u001b[39m \u001b[38;5;28mfloat\u001b[39m(\u001b[38;5;28minput\u001b[39m(\u001b[38;5;124m\"\u001b[39m\u001b[38;5;124mEnter coefficient D for cubic equation: \u001b[39m\u001b[38;5;124m\"\u001b[39m))\n\u001b[1;32m---> 55\u001b[0m     roots \u001b[38;5;241m=\u001b[39m solve_cubic_equation(A, B, C, D)\n\u001b[0;32m     56\u001b[0m     \u001b[38;5;28mprint\u001b[39m(\u001b[38;5;124m\"\u001b[39m\u001b[38;5;124mRoots of the cubic equation:\u001b[39m\u001b[38;5;124m\"\u001b[39m, roots)\n\u001b[0;32m     57\u001b[0m \u001b[38;5;28;01mexcept\u001b[39;00m \u001b[38;5;167;01mValueError\u001b[39;00m:\n",
      "Cell \u001b[1;32mIn[1], line 19\u001b[0m, in \u001b[0;36msolve_cubic_equation\u001b[1;34m(A, B, C, D)\u001b[0m\n\u001b[0;32m     17\u001b[0m     \u001b[38;5;28;01mreturn\u001b[39;00m x1, x2, x3\n\u001b[0;32m     18\u001b[0m \u001b[38;5;28;01melse\u001b[39;00m:\n\u001b[1;32m---> 19\u001b[0m     theta \u001b[38;5;241m=\u001b[39m math\u001b[38;5;241m.\u001b[39macos(R \u001b[38;5;241m/\u001b[39m math\u001b[38;5;241m.\u001b[39msqrt(Q\u001b[38;5;241m*\u001b[39m\u001b[38;5;241m*\u001b[39m\u001b[38;5;241m3\u001b[39m))\n\u001b[0;32m     20\u001b[0m     x1 \u001b[38;5;241m=\u001b[39m \u001b[38;5;241m-\u001b[39m\u001b[38;5;241m2\u001b[39m \u001b[38;5;241m*\u001b[39m math\u001b[38;5;241m.\u001b[39msqrt(Q) \u001b[38;5;241m*\u001b[39m math\u001b[38;5;241m.\u001b[39mcos(theta\u001b[38;5;241m/\u001b[39m\u001b[38;5;241m3\u001b[39m) \u001b[38;5;241m-\u001b[39m (B \u001b[38;5;241m/\u001b[39m (\u001b[38;5;241m3\u001b[39m \u001b[38;5;241m*\u001b[39m A))\n\u001b[0;32m     21\u001b[0m     x2 \u001b[38;5;241m=\u001b[39m \u001b[38;5;241m-\u001b[39m\u001b[38;5;241m2\u001b[39m \u001b[38;5;241m*\u001b[39m math\u001b[38;5;241m.\u001b[39msqrt(Q) \u001b[38;5;241m*\u001b[39m math\u001b[38;5;241m.\u001b[39mcos((theta \u001b[38;5;241m+\u001b[39m \u001b[38;5;241m2\u001b[39m \u001b[38;5;241m*\u001b[39m math\u001b[38;5;241m.\u001b[39mpi) \u001b[38;5;241m/\u001b[39m \u001b[38;5;241m3\u001b[39m) \u001b[38;5;241m-\u001b[39m (B \u001b[38;5;241m/\u001b[39m (\u001b[38;5;241m3\u001b[39m \u001b[38;5;241m*\u001b[39m A))\n",
      "\u001b[1;31mNameError\u001b[0m: name 'math' is not defined"
     ]
    }
   ],
   "source": [
    "# Function to find the roots of a cubic equation\n",
    "def solve_cubic_equation(A, B, C, D):\n",
    "    D0 = (18 * A * B * C * D) - (4 * B**3 * D) + (B**2 * C**2) - (4 * A * C**3) - (27 * A**2 * D**2)\n",
    "    Q = ((3 * A * C) - (B**2)) / (9 * A**2)\n",
    "    R = ((9 * A * B * C) - (27 * A**2 * D) - (2 * B**3)) / (54 * A**3)\n",
    "\n",
    "    if D0 > 0:\n",
    "        theta = math.acos(R / math.sqrt(Q**3))\n",
    "        x1 = -2 * math.sqrt(Q) * math.cos(theta/3) - (B / (3 * A))\n",
    "        x2 = -2 * math.sqrt(Q) * math.cos((theta + 2 * math.pi) / 3) - (B / (3 * A))\n",
    "        x3 = -2 * math.sqrt(Q) * math.cos((theta - 2 * math.pi) / 3) - (B / (3 * A))\n",
    "        return x1, x2, x3\n",
    "    elif D0 == 0:\n",
    "        x1 = -((2 * C) / (3 * A)) - (B / (3 * A))\n",
    "        x2 = -((2 * C) / (3 * A)) - (B / (3 * A))\n",
    "        x3 = -((2 * C) / (3 * A)) - (B / (3 * A))\n",
    "        return x1, x2, x3\n",
    "    else:\n",
    "        theta = math.acos(R / math.sqrt(Q**3))\n",
    "        x1 = -2 * math.sqrt(Q) * math.cos(theta/3) - (B / (3 * A))\n",
    "        x2 = -2 * math.sqrt(Q) * math.cos((theta + 2 * math.pi) / 3) - (B / (3 * A))\n",
    "        x3 = -2 * math.sqrt(Q) * math.cos((theta - 2 * math.pi) / 3) - (B / (3 * A))\n",
    "        return x1, x2, x3\n",
    "\n",
    "# Function to find the roots of a quadratic equation\n",
    "def solve_quadratic_equation(A, B, C):\n",
    "    D = B**2 - 4 * A * C\n",
    "    if D > 0:\n",
    "        x1 = (-B + math.sqrt(D)) / (2 * A)\n",
    "        x2 = (-B - math.sqrt(D)) / (2 * A)\n",
    "        return x1, x2\n",
    "    elif D == 0:\n",
    "        x1 = -B / (2 * A)\n",
    "        return x1,\n",
    "    else:\n",
    "        real_part = -B / (2 * A)\n",
    "        imaginary_part = math.sqrt(-D) / (2 * A)\n",
    "        return complex(real_part, imaginary_part), complex(real_part, -imaginary_part)\n",
    "\n",
    "# Main program\n",
    "while True:\n",
    "    print(\"Choose an operation:\")\n",
    "    print(\"1. Solve cubic equation\")\n",
    "    print(\"2. Solve quadratic equation\")\n",
    "    print(\"3. Exit\")\n",
    "\n",
    "    choice = input(\"Enter your choice (1/2/3): \")\n",
    "\n",
    "    if choice == '1':\n",
    "        try:\n",
    "            A = float(input(\"Enter coefficient A for cubic equation: \"))\n",
    "            B = float(input(\"Enter coefficient B for cubic equation: \"))\n",
    "            C = float(input(\"Enter coefficient C for cubic equation: \"))\n",
    "            D = float(input(\"Enter coefficient D for cubic equation: \"))\n",
    "            roots = solve_cubic_equation(A, B, C, D)\n",
    "            print(\"Roots of the cubic equation:\", roots)\n",
    "        except ValueError:\n",
    "            print(\"Invalid input. Please enter valid coefficients.\")\n",
    "    elif choice == '2':\n",
    "        try:\n",
    "            A = float(input(\"Enter coefficient A for quadratic equation: \"))\n",
    "            B = float(input(\"Enter coefficient B for quadratic equation: \"))\n",
    "            C = float(input(\"Enter coefficient C for quadratic equation: \"))\n",
    "            roots = solve_quadratic_equation(A, B, C)\n",
    "            print(\"Roots of the quadratic equation:\", roots)\n",
    "        except ValueError:\n",
    "            print(\"Invalid input. Please enter valid coefficients.\")\n",
    "    elif choice == '3':\n",
    "        break\n",
    "    else:\n",
    "        print(\"Invalid choice. Please enter 1, 2, or 3.\")\n"
   ]
  },
  {
   "cell_type": "code",
   "execution_count": null,
   "id": "060f707b-7699-4ab2-b990-b5b814eb8dd0",
   "metadata": {},
   "outputs": [],
   "source": []
  }
 ],
 "metadata": {
  "kernelspec": {
   "display_name": "Python 3 (ipykernel)",
   "language": "python",
   "name": "python3"
  },
  "language_info": {
   "codemirror_mode": {
    "name": "ipython",
    "version": 3
   },
   "file_extension": ".py",
   "mimetype": "text/x-python",
   "name": "python",
   "nbconvert_exporter": "python",
   "pygments_lexer": "ipython3",
   "version": "3.11.7"
  }
 },
 "nbformat": 4,
 "nbformat_minor": 5
}
