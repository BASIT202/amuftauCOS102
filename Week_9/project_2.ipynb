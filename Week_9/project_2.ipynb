{
 "cells": [
  {
   "cell_type": "code",
   "execution_count": 1,
   "id": "ad8fc3f6-1417-4cfa-a5c6-f81db72523b1",
   "metadata": {},
   "outputs": [],
   "source": [
    "import tkinter as tk\n",
    "\n",
    "class DeliveryService:\n",
    "    def _init_(self, location, weight):\n",
    "        self.location = location\n",
    "        self.weight = weight\n",
    "\n",
    "    def calculate_charge(self):\n",
    "        if self.location == \"PAU\":\n",
    "            if self.weight >= 10:\n",
    "                return 2000\n",
    "            else:\n",
    "                return 1500\n",
    "        elif self.location == \"Epe\":\n",
    "            if self.weight >= 10:\n",
    "                return 5000\n",
    "            else:\n",
    "                return 4000\n",
    "        else:\n",
    "            return \"Location not supported\"\n",
    "\n",
    "def calculate_charge():\n",
    "    location = location_entry.get()\n",
    "    weight = int(weight_entry.get())\n",
    "    service = DeliveryService(location, weight)\n",
    "    charge = service.calculate_charge()\n",
    "    result_label.config(text=f\"Delivery charge: N{charge}\")\n",
    "\n",
    "root = tk.Tk()\n",
    "root.title(\"Delivery Service Calculator\")\n",
    "\n",
    "location_label = tk.Label(root, text=\"Enter your location:\")\n",
    "location_label.pack()\n",
    "location_entry = tk.Entry(root)\n",
    "location_entry.pack()\n",
    "\n",
    "weight_label = tk.Label(root, text=\"Enter package weight (in kg):\")\n",
    "weight_label.pack()\n",
    "weight_entry = tk.Entry(root)\n",
    "weight_entry.pack()\n",
    "\n",
    "calculate_button = tk.Button(root, text=\"Calculate Charge\", command=calculate_charge)\n",
    "calculate_button.pack()\n",
    "\n",
    "result_label = tk.Label(root, text=\"\")\n",
    "result_label.pack()\n",
    "\n",
    "root.mainloop()"
   ]
  },
  {
   "cell_type": "code",
   "execution_count": null,
   "id": "791d604e-3552-43af-a113-c33f2a127aa7",
   "metadata": {},
   "outputs": [],
   "source": []
  }
 ],
 "metadata": {
  "kernelspec": {
   "display_name": "Python 3 (ipykernel)",
   "language": "python",
   "name": "python3"
  },
  "language_info": {
   "codemirror_mode": {
    "name": "ipython",
    "version": 3
   },
   "file_extension": ".py",
   "mimetype": "text/x-python",
   "name": "python",
   "nbconvert_exporter": "python",
   "pygments_lexer": "ipython3",
   "version": "3.11.7"
  }
 },
 "nbformat": 4,
 "nbformat_minor": 5
}
