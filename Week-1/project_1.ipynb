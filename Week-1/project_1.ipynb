{
 "cells": [
  {
   "cell_type": "code",
   "execution_count": 1,
   "id": "29833c44-f2a3-468d-b403-37e4600373ba",
   "metadata": {},
   "outputs": [
    {
     "name": "stdin",
     "output_type": "stream",
     "text": [
      "Enter the principal amount:  100\n",
      "Enter the rate of interest:  2\n",
      "Enter the time period in years:  4\n"
     ]
    },
    {
     "name": "stdout",
     "output_type": "stream",
     "text": [
      "Simple Interest:  108.0\n"
     ]
    }
   ],
   "source": [
    "# Python program to solve simple interest \n",
    "P = float(input(\"Enter the principal amount: \"))\n",
    "R = float(input(\"Enter the rate of interest: \"))\n",
    "T = float(input(\"Enter the time period in years: \"))\n",
    "\n",
    "A = P * (1 + (R / 100) * T)\n",
    "\n",
    "print(\"Simple Interest: \", A)\n"
   ]
  },
  {
   "cell_type": "code",
   "execution_count": 4,
   "id": "e4a7b893-03d8-4e5a-bfb5-c794e12a3aac",
   "metadata": {},
   "outputs": [
    {
     "name": "stdin",
     "output_type": "stream",
     "text": [
      "Enter the principal amount:  100\n",
      "Enter the rate of interest:  2\n",
      "Enter the time period in years:  3\n",
      "Enter the number of times interest is compounded per year:  4\n"
     ]
    },
    {
     "name": "stdout",
     "output_type": "stream",
     "text": [
      "Compound Interest:  1518.75\n"
     ]
    }
   ],
   "source": [
    "# Python program to solve compound interest\n",
    "P = float(input(\"Enter the principal amount: \"))\n",
    "R = float(input(\"Enter the rate of interest: \"))\n",
    "T = float(input(\"Enter the time period in years: \"))\n",
    "N = float(input(\"Enter the number of times interest is compounded per year: \"))\n",
    "\n",
    "A = P * (1 + (R / N)) ** N * T\n",
    "\n",
    "print(\"Compound Interest: \", A)\n"
   ]
  },
  {
   "cell_type": "code",
   "execution_count": 5,
   "id": "dc0ef5ee-fa04-4ead-b9d7-5c87c1cfd4f5",
   "metadata": {},
   "outputs": [
    {
     "name": "stdin",
     "output_type": "stream",
     "text": [
      "Enter the principal amount:  100\n",
      "Enter the rate of interest:  1\n",
      "Enter the time period in years:  2\n",
      "Enter the number of times interest is compounded per year:  3\n",
      "Enter the annuity payment per period:  4\n"
     ]
    },
    {
     "name": "stdout",
     "output_type": "stream",
     "text": [
      "Annuity Plan:  44.88888888888888\n"
     ]
    }
   ],
   "source": [
    "# Python program to solve annuity plan \n",
    "P = float(input(\"Enter the principal amount: \"))\n",
    "R = float(input(\"Enter the rate of interest: \"))\n",
    "T = float(input(\"Enter the time period in years: \"))\n",
    "N = float(input(\"Enter the number of times interest is compounded per year: \"))\n",
    "PMT = float(input(\"Enter the annuity payment per period: \"))\n",
    "\n",
    "A = PMT * ((1 + R / N) ** N * T - 1) / (R / N)\n",
    "\n",
    "print(\"Annuity Plan: \", A)\n"
   ]
  },
  {
   "cell_type": "code",
   "execution_count": null,
   "id": "8697aed0-43fd-489e-816e-2211ed858616",
   "metadata": {},
   "outputs": [],
   "source": []
  }
 ],
 "metadata": {
  "kernelspec": {
   "display_name": "Python 3 (ipykernel)",
   "language": "python",
   "name": "python3"
  },
  "language_info": {
   "codemirror_mode": {
    "name": "ipython",
    "version": 3
   },
   "file_extension": ".py",
   "mimetype": "text/x-python",
   "name": "python",
   "nbconvert_exporter": "python",
   "pygments_lexer": "ipython3",
   "version": "3.11.7"
  }
 },
 "nbformat": 4,
 "nbformat_minor": 5
}
